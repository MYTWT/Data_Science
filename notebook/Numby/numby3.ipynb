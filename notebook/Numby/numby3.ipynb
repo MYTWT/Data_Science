{
 "cells": [
  {
   "cell_type": "code",
   "execution_count": 55,
   "id": "55a075ac",
   "metadata": {},
   "outputs": [],
   "source": [
    "import numpy as np\n"
   ]
  },
  {
   "cell_type": "markdown",
   "id": "5664dd16",
   "metadata": {},
   "source": [
    "Cac mang dac biet"
   ]
  },
  {
   "cell_type": "code",
   "execution_count": 56,
   "id": "9b6b67b0",
   "metadata": {},
   "outputs": [
    {
     "name": "stdout",
     "output_type": "stream",
     "text": [
      "[[0. 0. 0.]\n",
      " [0. 0. 0.]]\n"
     ]
    }
   ],
   "source": [
    "#Mang 0\n",
    "a=np.zeros((2,3))\n",
    "print(a)"
   ]
  },
  {
   "cell_type": "code",
   "execution_count": 57,
   "id": "93153eb6",
   "metadata": {},
   "outputs": [
    {
     "name": "stdout",
     "output_type": "stream",
     "text": [
      "[[1. 1. 1.]\n",
      " [1. 1. 1.]]\n"
     ]
    }
   ],
   "source": [
    "#Mang toan mot\n",
    "a=np.ones((2,3))\n",
    "print(a)"
   ]
  },
  {
   "cell_type": "code",
   "execution_count": 58,
   "id": "a7c9cb20",
   "metadata": {},
   "outputs": [
    {
     "name": "stdout",
     "output_type": "stream",
     "text": [
      "[[1. 0. 0. 0.]\n",
      " [0. 1. 0. 0.]\n",
      " [0. 0. 1. 0.]\n",
      " [0. 0. 0. 1.]]\n"
     ]
    }
   ],
   "source": [
    "#Ma tran don vi\n",
    "a=np.eye(4)\n",
    "print(a)"
   ]
  },
  {
   "cell_type": "code",
   "execution_count": 59,
   "id": "96f5bf24",
   "metadata": {},
   "outputs": [
    {
     "name": "stdout",
     "output_type": "stream",
     "text": [
      "[ 0  1  2  3  4  5  6  7  8  9 10 11 12 13 14 15 16 17 18 19]\n"
     ]
    }
   ],
   "source": [
    "#Tao day so\n",
    "a=np.arange(0,20,1)\n",
    "print(a)"
   ]
  },
  {
   "cell_type": "code",
   "execution_count": 60,
   "id": "12c30329",
   "metadata": {},
   "outputs": [
    {
     "name": "stdout",
     "output_type": "stream",
     "text": [
      "[0.         0.11111111 0.22222222 0.33333333 0.44444444 0.55555556\n",
      " 0.66666667 0.77777778 0.88888889 1.        ]\n"
     ]
    }
   ],
   "source": [
    "#Tao n so cach deu tu start den end\n",
    "a=np.linspace(0,1,10)\n",
    "print(a)"
   ]
  },
  {
   "cell_type": "code",
   "execution_count": 61,
   "id": "a548219b",
   "metadata": {},
   "outputs": [
    {
     "name": "stdout",
     "output_type": "stream",
     "text": [
      "[[0.49555876 0.12172913 0.60813799 0.23278408 0.43996342 0.37044775]\n",
      " [0.7825227  0.90581911 0.07881185 0.11675138 0.08172768 0.57003452]\n",
      " [0.13641583 0.40496004 0.35136366 0.31979846 0.64075255 0.33714587]\n",
      " [0.8935163  0.48272678 0.65699717 0.36899827 0.53474834 0.73257721]\n",
      " [0.33132922 0.23349744 0.49511464 0.74006059 0.51914688 0.49326304]]\n"
     ]
    }
   ],
   "source": [
    "#Tao mang ngau nhien trong nua khoang [0,1)\n",
    "a=np.random.rand(5,6)\n",
    "print(a)"
   ]
  },
  {
   "cell_type": "code",
   "execution_count": 62,
   "id": "82a44fc2",
   "metadata": {},
   "outputs": [
    {
     "name": "stdout",
     "output_type": "stream",
     "text": [
      "[[8.58112456 9.57673887 7.45347049]\n",
      " [7.7680331  8.07777324 8.49016359]]\n",
      "[[8.81170658 9.7130867  8.85760451]\n",
      " [6.6703358  8.4169283  7.55076391]]\n"
     ]
    }
   ],
   "source": [
    "#Tao mang ngau nhien trong nua khoang [a,b)\n",
    "a=5\n",
    "b=10\n",
    "x=np.random.uniform(a,b,size=(2,3))\n",
    "print(x)\n",
    "#C2\n",
    "x2= a+(b-a)*np.random.rand(2,3)\n",
    "print(x2)"
   ]
  },
  {
   "cell_type": "markdown",
   "id": "013bbfb4",
   "metadata": {},
   "source": [
    "#Mot so thuc tinh cua mang"
   ]
  },
  {
   "cell_type": "code",
   "execution_count": 63,
   "id": "298da43e",
   "metadata": {},
   "outputs": [
    {
     "name": "stdout",
     "output_type": "stream",
     "text": [
      "(2, 3)\n",
      "2\n",
      "6\n",
      "<U21\n"
     ]
    }
   ],
   "source": [
    "x=np.array([[1,'tung',3],[4,5,6]])\n",
    "print(x.shape)#kich thuoc mang\n",
    "print(x.ndim)#so chieu\n",
    "print(x.size) # so phan tu\n",
    "print(x.dtype)#Kieu du lieu cua array"
   ]
  },
  {
   "cell_type": "markdown",
   "id": "ee81324c",
   "metadata": {},
   "source": [
    "#Truy cao vao array"
   ]
  },
  {
   "cell_type": "code",
   "execution_count": 64,
   "id": "0864f3a3",
   "metadata": {},
   "outputs": [
    {
     "name": "stdout",
     "output_type": "stream",
     "text": [
      "2\n",
      "[3 6]\n",
      "[1 2 3]\n"
     ]
    }
   ],
   "source": [
    "a=np.array([[1,2,3],[4,5,6]])\n",
    "print(a[0,1])\n",
    "print(a[:,2])\n",
    "print(a[0,:])"
   ]
  },
  {
   "cell_type": "markdown",
   "id": "b9c84966",
   "metadata": {},
   "source": [
    "#Cac phep toan giua hai ma tran"
   ]
  },
  {
   "cell_type": "code",
   "execution_count": 65,
   "id": "b1918952",
   "metadata": {},
   "outputs": [
    {
     "name": "stdout",
     "output_type": "stream",
     "text": [
      "[[ 7  9]\n",
      " [11 13]]\n",
      "[[-5 -5]\n",
      " [-3 -3]]\n",
      "[[ 6 14]\n",
      " [28 40]]\n",
      "[[20 23]\n",
      " [59 68]]\n",
      "[[20 23]\n",
      " [59 68]]\n",
      "[[0.16666667 0.28571429]\n",
      " [0.57142857 0.625     ]]\n"
     ]
    }
   ],
   "source": [
    "a=np.array([[1,2],\n",
    "            [4,5]])\n",
    "b=np.array([[6,7],\n",
    "            [7,8]])\n",
    "print(a+b)\n",
    "print(a-b)\n",
    "print(a*b)\n",
    "print(a@b)\n",
    "print(np.matmul(a,b))\n",
    "print(a/b)\n"
   ]
  }
 ],
 "metadata": {
  "kernelspec": {
   "display_name": "venv",
   "language": "python",
   "name": "venv"
  },
  "language_info": {
   "codemirror_mode": {
    "name": "ipython",
    "version": 3
   },
   "file_extension": ".py",
   "mimetype": "text/x-python",
   "name": "python",
   "nbconvert_exporter": "python",
   "pygments_lexer": "ipython3",
   "version": "3.13.5"
  }
 },
 "nbformat": 4,
 "nbformat_minor": 5
}
