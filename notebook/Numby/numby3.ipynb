{
 "cells": [
  {
   "cell_type": "code",
   "execution_count": 1,
   "id": "55a075ac",
   "metadata": {},
   "outputs": [],
   "source": [
    "import numpy as np\n"
   ]
  },
  {
   "cell_type": "markdown",
   "id": "5664dd16",
   "metadata": {},
   "source": [
    "Cac mang dac biet"
   ]
  },
  {
   "cell_type": "code",
   "execution_count": 32,
   "id": "9b6b67b0",
   "metadata": {},
   "outputs": [
    {
     "name": "stdout",
     "output_type": "stream",
     "text": [
      "[[0. 0. 0.]\n",
      " [0. 0. 0.]]\n"
     ]
    }
   ],
   "source": [
    "#Mang 0\n",
    "a=np.zeros((2,3))\n",
    "print(a)"
   ]
  },
  {
   "cell_type": "code",
   "execution_count": 33,
   "id": "93153eb6",
   "metadata": {},
   "outputs": [
    {
     "name": "stdout",
     "output_type": "stream",
     "text": [
      "[[1. 1. 1.]\n",
      " [1. 1. 1.]]\n"
     ]
    }
   ],
   "source": [
    "#Mang toan mot\n",
    "a=np.ones((2,3))\n",
    "print(a)"
   ]
  },
  {
   "cell_type": "code",
   "execution_count": 34,
   "id": "a7c9cb20",
   "metadata": {},
   "outputs": [
    {
     "name": "stdout",
     "output_type": "stream",
     "text": [
      "[[1. 0. 0. 0.]\n",
      " [0. 1. 0. 0.]\n",
      " [0. 0. 1. 0.]\n",
      " [0. 0. 0. 1.]]\n"
     ]
    }
   ],
   "source": [
    "#Ma tran don vi\n",
    "a=np.eye(4)\n",
    "print(a)"
   ]
  },
  {
   "cell_type": "code",
   "execution_count": 35,
   "id": "96f5bf24",
   "metadata": {},
   "outputs": [
    {
     "name": "stdout",
     "output_type": "stream",
     "text": [
      "[ 0  1  2  3  4  5  6  7  8  9 10 11 12 13 14 15 16 17 18 19]\n"
     ]
    }
   ],
   "source": [
    "#Tao day so\n",
    "a=np.arange(0,20,1)\n",
    "print(a)"
   ]
  },
  {
   "cell_type": "code",
   "execution_count": 36,
   "id": "12c30329",
   "metadata": {},
   "outputs": [
    {
     "name": "stdout",
     "output_type": "stream",
     "text": [
      "[0.         0.11111111 0.22222222 0.33333333 0.44444444 0.55555556\n",
      " 0.66666667 0.77777778 0.88888889 1.        ]\n"
     ]
    }
   ],
   "source": [
    "#Tao n so cach deu tu start den end\n",
    "a=np.linspace(0,1,10)\n",
    "print(a)"
   ]
  },
  {
   "cell_type": "code",
   "execution_count": 37,
   "id": "a548219b",
   "metadata": {},
   "outputs": [
    {
     "name": "stdout",
     "output_type": "stream",
     "text": [
      "[[0.70297129 0.88655272 0.86557546 0.23907494 0.77498747 0.4900029 ]\n",
      " [0.33538653 0.92894972 0.08208896 0.30639079 0.11179605 0.81340739]\n",
      " [0.84506764 0.99371704 0.18633094 0.60863815 0.47423847 0.32094225]\n",
      " [0.50447637 0.07166459 0.04708035 0.92917657 0.67916686 0.39171803]\n",
      " [0.28645175 0.05072243 0.13778947 0.60602117 0.38635042 0.45417571]]\n"
     ]
    }
   ],
   "source": [
    "#Tao mang ngau nhien trong nua khoang [0,1)\n",
    "a=np.random.rand(5,6)\n",
    "print(a)"
   ]
  },
  {
   "cell_type": "code",
   "execution_count": 38,
   "id": "82a44fc2",
   "metadata": {},
   "outputs": [
    {
     "name": "stdout",
     "output_type": "stream",
     "text": [
      "[[8.99078782 9.12907597 5.7757246 ]\n",
      " [6.38983635 9.69883914 8.22637272]]\n",
      "[[5.76877341 5.13779612 7.19180547]\n",
      " [7.57128912 6.73064274 5.31201944]]\n"
     ]
    }
   ],
   "source": [
    "#Tao mang ngau nhien trong nua khoang [a,b)\n",
    "a=5\n",
    "b=10\n",
    "x=np.random.uniform(a,b,size=(2,3))\n",
    "print(x)\n",
    "#C2\n",
    "x2= a+(b-a)*np.random.rand(2,3)\n",
    "print(x2)"
   ]
  },
  {
   "cell_type": "markdown",
   "id": "013bbfb4",
   "metadata": {},
   "source": [
    "#Mot so thuc tinh cua mang"
   ]
  },
  {
   "cell_type": "code",
   "execution_count": 39,
   "id": "298da43e",
   "metadata": {},
   "outputs": [
    {
     "name": "stdout",
     "output_type": "stream",
     "text": [
      "(2, 3)\n",
      "2\n",
      "6\n",
      "<U21\n"
     ]
    }
   ],
   "source": [
    "x=np.array([[1,'tung',3],[4,5,6]])\n",
    "print(x.shape)#kich thuoc mang\n",
    "print(x.ndim)#so chieu\n",
    "print(x.size) # so phan tu\n",
    "print(x.dtype)#Kieu du lieu cua array"
   ]
  },
  {
   "cell_type": "markdown",
   "id": "ee81324c",
   "metadata": {},
   "source": [
    "#Truy cao vao array"
   ]
  },
  {
   "cell_type": "code",
   "execution_count": 40,
   "id": "0864f3a3",
   "metadata": {},
   "outputs": [
    {
     "name": "stdout",
     "output_type": "stream",
     "text": [
      "2\n",
      "[3 6]\n",
      "[1 2 3]\n"
     ]
    }
   ],
   "source": [
    "a=np.array([[1,2,3],[4,5,6]])\n",
    "print(a[0,1])\n",
    "print(a[:,2])\n",
    "print(a[0,:])"
   ]
  },
  {
   "cell_type": "markdown",
   "id": "b9c84966",
   "metadata": {},
   "source": [
    "#Cac phep toan giua hai ma tran"
   ]
  },
  {
   "cell_type": "code",
   "execution_count": 41,
   "id": "b1918952",
   "metadata": {},
   "outputs": [
    {
     "name": "stdout",
     "output_type": "stream",
     "text": [
      "[[ 7  9]\n",
      " [11 13]]\n",
      "[[-5 -5]\n",
      " [-3 -3]]\n",
      "[[ 6 14]\n",
      " [28 40]]\n",
      "[[20 23]\n",
      " [59 68]]\n",
      "[[20 23]\n",
      " [59 68]]\n",
      "[[0.16666667 0.28571429]\n",
      " [0.57142857 0.625     ]]\n"
     ]
    }
   ],
   "source": [
    "a=np.array([[1,2],\n",
    "            [4,5]])\n",
    "b=np.array([[6,7],\n",
    "            [7,8]])\n",
    "print(a+b)\n",
    "print(a-b)\n",
    "print(a*b)\n",
    "print(a@b)\n",
    "print(np.matmul(a,b))\n",
    "print(a/b)\n"
   ]
  },
  {
   "cell_type": "markdown",
   "id": "ca0492d3",
   "metadata": {},
   "source": [
    "#Thay doi hinh dang ma tran"
   ]
  },
  {
   "cell_type": "code",
   "execution_count": 47,
   "id": "26e3a0bb",
   "metadata": {},
   "outputs": [
    {
     "name": "stdout",
     "output_type": "stream",
     "text": [
      "[[1 2]\n",
      " [3 4]\n",
      " [5 6]]\n",
      "[1 2 3 4 5 6]\n",
      "[[1 4]\n",
      " [2 5]\n",
      " [3 6]]\n"
     ]
    }
   ],
   "source": [
    "a=np.array([[1,2,3],\n",
    "            [4,5,6]])\n",
    "x=a.reshape(3,2)\n",
    "print(x)\n",
    "y=a.flatten()\n",
    "print(y)\n",
    "z=a.T\n",
    "print(z)"
   ]
  }
 ],
 "metadata": {
  "kernelspec": {
   "display_name": "venv",
   "language": "python",
   "name": "venv"
  },
  "language_info": {
   "codemirror_mode": {
    "name": "ipython",
    "version": 3
   },
   "file_extension": ".py",
   "mimetype": "text/x-python",
   "name": "python",
   "nbconvert_exporter": "python",
   "pygments_lexer": "ipython3",
   "version": "3.13.5"
  }
 },
 "nbformat": 4,
 "nbformat_minor": 5
}
