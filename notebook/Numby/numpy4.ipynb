{
 "cells": [
  {
   "cell_type": "markdown",
   "id": "fb919ceb",
   "metadata": {},
   "source": [
    "#Bai1"
   ]
  },
  {
   "cell_type": "code",
   "execution_count": 2,
   "id": "e7122d54",
   "metadata": {},
   "outputs": [
    {
     "name": "stdout",
     "output_type": "stream",
     "text": [
      "[0 1 2 3 4 5 6 7 8 9]\n",
      "Kieu du lieu cua mang a la: int64 va co tong 45\n"
     ]
    }
   ],
   "source": [
    "import numpy as np\n",
    "a= np.arange(0,10,1)\n",
    "print(a)\n",
    "print(f\"Kieu du lieu cua mang a la: {a.dtype} va co tong {np.sum(a)}\")"
   ]
  },
  {
   "cell_type": "markdown",
   "id": "b3e5e1f5",
   "metadata": {},
   "source": [
    "#bai2"
   ]
  },
  {
   "cell_type": "code",
   "execution_count": 3,
   "id": "444ad8e7",
   "metadata": {},
   "outputs": [
    {
     "name": "stdout",
     "output_type": "stream",
     "text": [
      "[[1 2 3]\n",
      " [4 5 6]\n",
      " [7 8 9]]\n",
      "Kieu du lieu cua mang b la int64\n",
      "[1 2 3]\n",
      "[12 15 18]\n"
     ]
    }
   ],
   "source": [
    "b=np.arange(1,10,1)\n",
    "b=b.reshape(3,3)\n",
    "print(b)\n",
    "print(f\"Kieu du lieu cua mang b la {b.dtype}\")\n",
    "print(b[0,:])\n",
    "print(np.sum(b,axis=0))"
   ]
  },
  {
   "cell_type": "code",
   "execution_count": 4,
   "id": "ed3b59c8",
   "metadata": {},
   "outputs": [
    {
     "name": "stdout",
     "output_type": "stream",
     "text": [
      "[[0. 0. 0. 0.]\n",
      " [0. 0. 0. 0.]\n",
      " [0. 0. 0. 0.]]\n",
      "[[1. 0. 0. 0. 0.]\n",
      " [0. 1. 0. 0. 0.]\n",
      " [0. 0. 1. 0. 0.]\n",
      " [0. 0. 0. 1. 0.]\n",
      " [0. 0. 0. 0. 1.]]\n"
     ]
    }
   ],
   "source": [
    "x = np.zeros((3,4))\n",
    "print(x)\n",
    "x=np.eye(5)\n",
    "print(x)"
   ]
  },
  {
   "cell_type": "code",
   "execution_count": 5,
   "id": "5186e933",
   "metadata": {},
   "outputs": [
    {
     "name": "stdout",
     "output_type": "stream",
     "text": [
      "[[0.10416031 0.48598053 0.46449598 0.45529658 0.19967413 0.42218984\n",
      "  0.64621982 0.71648443 0.37629034 0.22748862]]\n"
     ]
    }
   ],
   "source": [
    "x=np.random.rand(1,10)\n",
    "print(x)\n"
   ]
  },
  {
   "cell_type": "code",
   "execution_count": 6,
   "id": "13c1845e",
   "metadata": {},
   "outputs": [
    {
     "name": "stdout",
     "output_type": "stream",
     "text": [
      "[[ 1  2  3  4]\n",
      " [ 5  6  7  8]\n",
      " [ 9 10 11 12]]\n",
      "[[ 1  2  3]\n",
      " [ 4  5  6]\n",
      " [ 7  8  9]\n",
      " [10 11 12]]\n"
     ]
    }
   ],
   "source": [
    "x =  np.arange(1,13,1)\n",
    "x = x.reshape(3,4)\n",
    "print(x)\n",
    "x=x.reshape(4,-1) # Tu dieu chinh so hang/cot duoc dat la -1\n",
    "print(x)"
   ]
  },
  {
   "cell_type": "markdown",
   "id": "6083c1c6",
   "metadata": {},
   "source": [
    "#Chuan cua vecto"
   ]
  },
  {
   "cell_type": "code",
   "execution_count": 7,
   "id": "80e7f006",
   "metadata": {},
   "outputs": [
    {
     "name": "stdout",
     "output_type": "stream",
     "text": [
      "45.0\n",
      "16.881943016134134\n",
      "9.0\n"
     ]
    }
   ],
   "source": [
    "a = np.arange(1,10)\n",
    "x = np.linalg.norm(a,ord = 1) # L1 norm\n",
    "y = np.linalg.norm(a,ord = 2) # l2 norm\n",
    "z = np.linalg.norm(a,ord= np.inf) #L3 norm\n",
    "print(x)\n",
    "print(y)\n",
    "print(z)"
   ]
  },
  {
   "cell_type": "markdown",
   "id": "b05975ba",
   "metadata": {},
   "source": [
    "###Dinh thuc cua ma tran"
   ]
  },
  {
   "cell_type": "code",
   "execution_count": 8,
   "id": "41d7deff",
   "metadata": {},
   "outputs": [
    {
     "name": "stdout",
     "output_type": "stream",
     "text": [
      "[[1 2 3]\n",
      " [4 5 6]\n",
      " [7 8 9]]\n",
      "0 0.0\n"
     ]
    }
   ],
   "source": [
    "a = np.arange(1,10).reshape(3,3)\n",
    "print(a)\n",
    "dt = a[0,0]*a[1,1]*a[2,2] + a[1,0]*a[2,1]*a[0,2]+a[0,1]*a[1,2]*a[2,0] - a[0,2]*a[1,1]*a[2,0]-a[1,2]*a[2,1]*a[0,0] - a[0,1]*a[1,0]*a[2,2]\n",
    "dt2 = np.linalg.det(a)\n",
    "print(f\"{dt} {dt2}\")"
   ]
  },
  {
   "cell_type": "markdown",
   "id": "eee7ef6b",
   "metadata": {},
   "source": [
    "#Ma tran nghich dao"
   ]
  },
  {
   "cell_type": "code",
   "execution_count": 9,
   "id": "1c2697c5",
   "metadata": {},
   "outputs": [
    {
     "name": "stdout",
     "output_type": "stream",
     "text": [
      "Dinh thuc cua ma tra a la -2.0000000000000004\n",
      "Ma tran nghich dao cua ma tran a la [[-2.   1. ]\n",
      " [ 1.5 -0.5]]\n"
     ]
    }
   ],
   "source": [
    "a = np.arange(1,5).reshape(2,2)\n",
    "dt = np.linalg.det(a)\n",
    "print(f\"Dinh thuc cua ma tra a la {dt}\")\n",
    "akn = np.linalg.inv(a)\n",
    "print(f\"Ma tran nghich dao cua ma tran a la {akn}\")"
   ]
  },
  {
   "cell_type": "markdown",
   "id": "7f466d05",
   "metadata": {},
   "source": [
    "#Broadcasting"
   ]
  },
  {
   "cell_type": "code",
   "execution_count": 10,
   "id": "41063ab2",
   "metadata": {},
   "outputs": [
    {
     "name": "stdout",
     "output_type": "stream",
     "text": [
      "Ket cua cua broadcasting ma tran \n",
      " [10 10 10]\n",
      "[[1 2 3]\n",
      " [4 5 6]\n",
      " [7 8 9]]\n",
      "[[11 12 13]\n",
      " [14 15 16]\n",
      " [17 18 19]]\n"
     ]
    }
   ],
   "source": [
    "a = np.array([10,10,10])\n",
    "b=np.arange(1,10).reshape(3,3)\n",
    "print(f\"Ket cua cua broadcasting ma tran \\n {a}\\n{b}\\n{a+b}\")"
   ]
  },
  {
   "cell_type": "markdown",
   "id": "df78dc9f",
   "metadata": {},
   "source": [
    "#Tao ma tran duong cheo tu vecto [1,2,3,4]"
   ]
  },
  {
   "cell_type": "code",
   "execution_count": 11,
   "id": "b48e61d4",
   "metadata": {},
   "outputs": [
    {
     "name": "stdout",
     "output_type": "stream",
     "text": [
      "[[1. 0. 0. 0.]\n",
      " [0. 2. 0. 0.]\n",
      " [0. 0. 3. 0.]\n",
      " [0. 0. 0. 4.]]\n",
      "[[1 0 0 0]\n",
      " [0 2 0 0]\n",
      " [0 0 3 0]\n",
      " [0 0 0 4]]\n"
     ]
    }
   ],
   "source": [
    "a = np.array([1,2,3,4])\n",
    "b = np.eye(len(a))\n",
    "for i in range(len(a)):\n",
    "    b[i,i] = a[i]\n",
    "print(b)\n",
    "print(np.diag(a))"
   ]
  },
  {
   "cell_type": "markdown",
   "id": "05a73d93",
   "metadata": {},
   "source": [
    "#Phep so sanh giua hai ma tran"
   ]
  },
  {
   "cell_type": "code",
   "execution_count": 12,
   "id": "fb8db682",
   "metadata": {},
   "outputs": [
    {
     "name": "stdout",
     "output_type": "stream",
     "text": [
      "[ True  True  True  True]\n"
     ]
    }
   ],
   "source": [
    "a = np.array([1,2,3,4])\n",
    "b = np.array([1,2,3,4])\n",
    "print(a == b) "
   ]
  },
  {
   "cell_type": "code",
   "execution_count": 15,
   "id": "d754a1e8",
   "metadata": {},
   "outputs": [
    {
     "name": "stdout",
     "output_type": "stream",
     "text": [
      "[[0.         2.10520968 1.85430936]\n",
      " [0.         3.73875724 3.93936013]\n",
      " [2.84939975 3.37460858 0.        ]]\n",
      "3.738757244447942\n"
     ]
    }
   ],
   "source": [
    "a = np.random.uniform(1,10,size = (3,3))\n",
    "a[a > 5] = 0\n",
    "print(a)\n",
    "print(np.trace(a))"
   ]
  },
  {
   "cell_type": "code",
   "execution_count": 17,
   "id": "2611d3c8",
   "metadata": {},
   "outputs": [
    {
     "name": "stdout",
     "output_type": "stream",
     "text": [
      "[[ 1  2  3  4]\n",
      " [ 5  6  7  8]\n",
      " [ 9 10 11 12]]\n",
      "2.5\n",
      "6.5\n",
      "10.5\n"
     ]
    }
   ],
   "source": [
    "a = np.arange(1,13).reshape(3,4)\n",
    "print(a)\n",
    "for i in range(len(a)):\n",
    "    print(sum(a[i,:]/len(a[i,:])))"
   ]
  }
 ],
 "metadata": {
  "kernelspec": {
   "display_name": "venv",
   "language": "python",
   "name": "venv"
  },
  "language_info": {
   "codemirror_mode": {
    "name": "ipython",
    "version": 3
   },
   "file_extension": ".py",
   "mimetype": "text/x-python",
   "name": "python",
   "nbconvert_exporter": "python",
   "pygments_lexer": "ipython3",
   "version": "3.13.5"
  }
 },
 "nbformat": 4,
 "nbformat_minor": 5
}
