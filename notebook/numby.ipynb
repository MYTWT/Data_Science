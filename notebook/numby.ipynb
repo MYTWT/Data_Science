{
 "cells": [
  {
   "cell_type": "code",
   "execution_count": 4,
   "id": "5f2aa287",
   "metadata": {},
   "outputs": [],
   "source": [
    "import pandas as pd\n",
    "import matplotlib.pyplot as plb\n",
    "import numpy as np"
   ]
  },
  {
   "cell_type": "markdown",
   "id": "1766a115",
   "metadata": {},
   "source": [
    "Khoi tao numby"
   ]
  },
  {
   "cell_type": "code",
   "execution_count": 5,
   "id": "dae8d526",
   "metadata": {},
   "outputs": [
    {
     "name": "stdout",
     "output_type": "stream",
     "text": [
      "[1 2 3]\n",
      "(3,)\n",
      "3\n",
      "2\n"
     ]
    }
   ],
   "source": [
    "x= np.array([1,2,3])\n",
    "print(x)\n",
    "print(x.shape)\n",
    "print(x.size)\n",
    "print(x[1])"
   ]
  },
  {
   "cell_type": "code",
   "execution_count": 6,
   "id": "90525f79",
   "metadata": {},
   "outputs": [
    {
     "name": "stdout",
     "output_type": "stream",
     "text": [
      "[[1 2 3]\n",
      " [4 5 6]\n",
      " [7 8 9]]\n",
      "(3, 3)\n",
      "<class 'numpy.ndarray'>\n"
     ]
    }
   ],
   "source": [
    "y = np.array([[1,2,3],\n",
    "            [4,5,6],\n",
    "            [7,8,9]]) \n",
    "print(y)\n",
    "print(y.shape)\n",
    "print(type(y))"
   ]
  },
  {
   "cell_type": "markdown",
   "id": "602fe8b0",
   "metadata": {},
   "source": [
    "#KHOI TAO MANG HAI CHIEU "
   ]
  },
  {
   "cell_type": "code",
   "execution_count": null,
   "id": "af779fdc",
   "metadata": {},
   "outputs": [],
   "source": [
    "h = np.array([[1,2,3,4,5],[6,7,8,9,10]])\n",
    "print(h[0,4])"
   ]
  }
 ],
 "metadata": {
  "kernelspec": {
   "display_name": "venv",
   "language": "python",
   "name": "venv"
  },
  "language_info": {
   "codemirror_mode": {
    "name": "ipython",
    "version": 3
   },
   "file_extension": ".py",
   "mimetype": "text/x-python",
   "name": "python",
   "nbconvert_exporter": "python",
   "pygments_lexer": "ipython3",
   "version": "3.13.5"
  }
 },
 "nbformat": 4,
 "nbformat_minor": 5
}
